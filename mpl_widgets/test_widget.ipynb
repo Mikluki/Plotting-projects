{
 "cells": [
  {
   "cell_type": "code",
   "execution_count": 90,
   "metadata": {},
   "outputs": [],
   "source": [
    "import pandas as pd\n",
    "import numpy as np\n",
    "import matplotlib.pyplot as plt\n",
    "from numpy.random import normal\n",
    "from matplotlib.widgets import Slider\n"
   ]
  },
  {
   "cell_type": "code",
   "execution_count": 91,
   "metadata": {},
   "outputs": [],
   "source": [
    "class MyApp:\n",
    "\n",
    "    def __init__(self, ):\n",
    "        self.sfreq = 0\n",
    "        self.samp = 0\n",
    "\n",
    "    def update(self, val):\n",
    "        self.samp = val\n",
    "        self.sfreq = val**2\n",
    "        print(self.samp,\n",
    "              self.sfreq)\n"
   ]
  },
  {
   "cell_type": "code",
   "execution_count": 92,
   "metadata": {},
   "outputs": [
    {
     "name": "stdout",
     "output_type": "stream",
     "text": [
      "3 9\n"
     ]
    }
   ],
   "source": [
    "a = MyApp()\n",
    "a.update(3)"
   ]
  },
  {
   "cell_type": "code",
   "execution_count": 93,
   "metadata": {},
   "outputs": [],
   "source": [
    "class MyData:\n",
    "    def __init__(self,yval,fmin,fmax,Np,\\\n",
    "                nRegions,xReg_min,xReg_max):\n",
    "\n",
    "        self.ox = np.linspace(fmin, fmax, Np,)\n",
    "        self.oy = np.full((len(self.ox)), yval) + \\\n",
    "                  normal(scale=0.5, size=len(self.ox))\n",
    "\n",
    "    #     init_ox_oy()\n",
    "    # def init_ox_oy():\n",
    "\n",
    "    def update():\n",
    "        pass\n"
   ]
  },
  {
   "cell_type": "code",
   "execution_count": 94,
   "metadata": {},
   "outputs": [],
   "source": [
    "class MyData:\n",
    "    def __init__(self, yval, fmin, fmax, Np,\n",
    "                 nRegions, xReg_min, xReg_max):\n",
    "        self.init_ox_oy(yval, fmin, fmax, Np,)\n",
    "\n",
    "    def init_ox_oy(self, yval, fmin, fmax, Np,):\n",
    "        self.ox = np.linspace(fmin, fmax, Np,)\n",
    "        self.oy = np.full((len(self.ox)), yval) + \\\n",
    "            normal(scale=0.5, size=len(self.ox))\n",
    "\n",
    "    def update():\n",
    "        pass\n"
   ]
  },
  {
   "cell_type": "code",
   "execution_count": 95,
   "metadata": {},
   "outputs": [
    {
     "data": {
      "text/plain": [
       "array([-1.19347961, -2.38619035, -1.93784696, -1.9255946 , -1.21150888,\n",
       "       -1.37583614, -1.69693069, -2.50352888, -2.36300065, -2.46693952,\n",
       "       -2.37451663, -3.26242748, -2.30239655, -2.3264531 , -2.55604955,\n",
       "       -1.53650339, -1.52194282, -1.32628469, -2.47326933, -1.72163217,\n",
       "       -1.35955559, -2.45848812, -2.1947873 , -1.93771782, -1.09746856,\n",
       "       -2.30355932, -1.56962868, -1.53843832, -2.08155835, -2.07929505])"
      ]
     },
     "execution_count": 95,
     "metadata": {},
     "output_type": "execute_result"
    }
   ],
   "source": [
    "yval = -2\n",
    "fmin = 20\n",
    "fmax = 190\n",
    "Np = 30\n",
    "# ==== Define regions ====\n",
    "nRegions = 3\n",
    "xReg_min = 50\n",
    "xReg_max = 105\n",
    "\n",
    "b = MyData(yval, fmin, fmax, Np,\n",
    "           nRegions, xReg_min, xReg_max)\n",
    "b.ox\n",
    "b.oy\n"
   ]
  },
  {
   "cell_type": "code",
   "execution_count": 96,
   "metadata": {},
   "outputs": [
    {
     "data": {
      "text/plain": [
       "array([[1, 2, 3, 4, 5, 6]])"
      ]
     },
     "execution_count": 96,
     "metadata": {},
     "output_type": "execute_result"
    }
   ],
   "source": [
    "a = np.array([[1, 2]])\n",
    "b = np.array([[3, 4]])\n",
    "c = np.array([[5, 6]])\n",
    "q = [a, b, c]\n",
    "np.concatenate(q, axis=1)\n"
   ]
  },
  {
   "cell_type": "code",
   "execution_count": null,
   "metadata": {},
   "outputs": [],
   "source": []
  }
 ],
 "metadata": {
  "kernelspec": {
   "display_name": "Python 3",
   "language": "python",
   "name": "python3"
  },
  "language_info": {
   "codemirror_mode": {
    "name": "ipython",
    "version": 3
   },
   "file_extension": ".py",
   "mimetype": "text/x-python",
   "name": "python",
   "nbconvert_exporter": "python",
   "pygments_lexer": "ipython3",
   "version": "3.10.6"
  },
  "orig_nbformat": 4,
  "vscode": {
   "interpreter": {
    "hash": "916dbcbb3f70747c44a77c7bcd40155683ae19c65e1c03b4aa3499c5328201f1"
   }
  }
 },
 "nbformat": 4,
 "nbformat_minor": 2
}
