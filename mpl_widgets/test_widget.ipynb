{
 "cells": [
  {
   "cell_type": "code",
   "execution_count": 4,
   "metadata": {},
   "outputs": [],
   "source": [
    "import pandas as pd\n",
    "import numpy as np\n",
    "import matplotlib.pyplot as plt\n",
    "from numpy.random import normal\n",
    "from matplotlib.widgets import Slider\n"
   ]
  },
  {
   "cell_type": "code",
   "execution_count": 5,
   "metadata": {},
   "outputs": [],
   "source": [
    "def update_region(yval):\n",
    "    # ax.plot(ox[idxR], oy[idxR], 'C0')\n",
    "    # print(yval)\n",
    "    ax.clear()\n",
    "    # oy = oy[idxR1] - yval\n",
    "    ax.plot(50, 1-yval, 'C0')\n",
    "    # ax.plot(ox[idxR1], oy[idxR1]+yval, 'C1')\n",
    "\n",
    "    ax.set_xlabel('Frequency (GHz)')\n",
    "    ax.set_ylabel('S$_{11}$ (dB)')\n",
    "    ax.set_ylim(-15, 0)\n",
    "\n",
    "    plt.draw()\n"
   ]
  },
  {
   "cell_type": "code",
   "execution_count": 6,
   "metadata": {},
   "outputs": [
    {
     "data": {
      "image/png": "[encoded data removed]",
      "text/plain": [
       "<Figure size 720x504 with 1 Axes>"
      ]
     },
     "metadata": {
      "needs_background": "light"
     },
     "output_type": "display_data"
    }
   ],
   "source": [
    "yval = -2\n",
    "fmin = 20\n",
    "fmax = 190\n",
    "Np = 30\n",
    "# ==== Define regions ====\n",
    "nRegions = 3\n",
    "xReg_min = 50\n",
    "xReg_max = 105\n",
    "\n",
    "ox = np.linspace(fmin, fmax, Np)\n",
    "oy = np.full((len(ox),), yval) + normal(scale=0.5, size=len(ox))\n",
    "fig, ax = plt.subplots(figsize=(10, 7))\n",
    "\n",
    "idxR1 = np.where((ox >= xReg_min) & (ox <= xReg_max))\n"
   ]
  },
  {
   "cell_type": "code",
   "execution_count": 9,
   "metadata": {},
   "outputs": [
    {
     "name": "stdout",
     "output_type": "stream",
     "text": [
      "20\n"
     ]
    },
    {
     "data": {
      "text/plain": [
       "<Figure size 432x288 with 0 Axes>"
      ]
     },
     "metadata": {},
     "output_type": "display_data"
    }
   ],
   "source": [
    "\n",
    "update_region(20)\n"
   ]
  },
  {
   "cell_type": "code",
   "execution_count": null,
   "metadata": {},
   "outputs": [],
   "source": []
  }
 ],
 "metadata": {
  "kernelspec": {
   "display_name": "Python 3",
   "language": "python",
   "name": "python3"
  },
  "language_info": {
   "codemirror_mode": {
    "name": "ipython",
    "version": 3
   },
   "file_extension": ".py",
   "mimetype": "text/x-python",
   "name": "python",
   "nbconvert_exporter": "python",
   "pygments_lexer": "ipython3",
   "version": "3.10.6"
  },
  "orig_nbformat": 4,
  "vscode": {
   "interpreter": {
    "hash": "916dbcbb3f70747c44a77c7bcd40155683ae19c65e1c03b4aa3499c5328201f1"
   }
  }
 },
 "nbformat": 4,
 "nbformat_minor": 2
}
