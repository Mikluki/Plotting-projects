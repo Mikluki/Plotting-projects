{
 "cells": [
  {
   "cell_type": "code",
   "execution_count": 31,
   "metadata": {},
   "outputs": [],
   "source": [
    "import pandas as pd\n",
    "import numpy as np\n",
    "import matplotlib.pyplot as plt\n",
    "from numpy.random import normal\n",
    "from matplotlib.widgets import Slider\n"
   ]
  },
  {
   "cell_type": "code",
   "execution_count": 32,
   "metadata": {},
   "outputs": [],
   "source": [
    "class MyData:\n",
    "    def __init__(self, yval, fmin, fmax, Np,\n",
    "                 nRegions, xReg_min, xReg_max):\n",
    "        self.nRegs = nRegions\n",
    "        self.init_ox_oy(yval, fmin, fmax, Np,)\n",
    "        self.init_funcs()\n",
    "        self.val = 0\n",
    "\n",
    "    def init_ox_oy(self, yval, fmin, fmax, Np,):\n",
    "        self.ox = np.linspace(fmin, fmax, Np,)\n",
    "        self.oy = np.full((len(self.ox)), yval) + \\\n",
    "            normal(scale=0.5, size=len(self.ox))\n",
    "        self.reg_names = [f'r_{i}' for i in range(self.nRegs)]\n",
    "\n",
    "    def init_funcs(self):\n",
    "        self.funcs = []\n",
    "        for i, fname in enumerate(self.reg_names):\n",
    "            self.funcs.append(self.factory(fname,i))\n",
    "\n",
    "    def factory(self,fname,dval):\n",
    "        def f():\n",
    "            print(fname, dval)\n",
    "            self.val = self.val + dval\n",
    "            print(self.val)\n",
    "        return f\n"
   ]
  },
  {
   "cell_type": "code",
   "execution_count": 33,
   "metadata": {},
   "outputs": [],
   "source": [
    "yval = -2\n",
    "fmin = 20\n",
    "fmax = 190\n",
    "Np = 30\n",
    "# ==== Define regions ====\n",
    "nRegions = 3\n",
    "xReg_min = 50\n",
    "xReg_max = 105\n",
    "\n",
    "b = MyData(yval, fmin, fmax, Np,\n",
    "           nRegions, xReg_min, xReg_max)\n"
   ]
  },
  {
   "cell_type": "code",
   "execution_count": 56,
   "metadata": {},
   "outputs": [
    {
     "name": "stdout",
     "output_type": "stream",
     "text": [
      "19\n",
      "r_1 1\n",
      "20\n"
     ]
    }
   ],
   "source": [
    "print(b.val)\n",
    "b.funcs[1]()"
   ]
  },
  {
   "cell_type": "code",
   "execution_count": 35,
   "metadata": {},
   "outputs": [
    {
     "name": "stdout",
     "output_type": "stream",
     "text": [
      "0\n",
      "1\n",
      "2\n",
      "3\n",
      "4\n",
      "5\n",
      "6\n",
      "7\n",
      "8\n",
      "9\n"
     ]
    }
   ],
   "source": [
    "# Define factory\n",
    "def factory(argument):\n",
    "    def f():\n",
    "        print(argument)\n",
    "    return f\n",
    "\n",
    "\n",
    "# Define functions\n",
    "funcs = []\n",
    "for i in range(10):\n",
    "    funcs.append(factory(i))\n",
    "# Run funcs\n",
    "for f in funcs:\n",
    "    f()\n"
   ]
  },
  {
   "cell_type": "code",
   "execution_count": 62,
   "metadata": {},
   "outputs": [
    {
     "name": "stdout",
     "output_type": "stream",
     "text": [
      "[ 5  6  7  8  9 10]\n",
      "[ 5  6  7 20 22 10]\n"
     ]
    }
   ],
   "source": [
    "c = np.arange(5, 11, 1)\n",
    "print(c)\n",
    "np.put(c, [3,4], [20,22])\n",
    "print(c)\n"
   ]
  }
 ],
 "metadata": {
  "kernelspec": {
   "display_name": "Python 3",
   "language": "python",
   "name": "python3"
  },
  "language_info": {
   "codemirror_mode": {
    "name": "ipython",
    "version": 3
   },
   "file_extension": ".py",
   "mimetype": "text/x-python",
   "name": "python",
   "nbconvert_exporter": "python",
   "pygments_lexer": "ipython3",
   "version": "3.10.6"
  },
  "orig_nbformat": 4,
  "vscode": {
   "interpreter": {
    "hash": "916dbcbb3f70747c44a77c7bcd40155683ae19c65e1c03b4aa3499c5328201f1"
   }
  }
 },
 "nbformat": 4,
 "nbformat_minor": 2
}
