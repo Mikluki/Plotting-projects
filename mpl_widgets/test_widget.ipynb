{
 "cells": [
  {
   "cell_type": "code",
   "execution_count": 63,
   "metadata": {},
   "outputs": [],
   "source": [
    "import pandas as pd\n",
    "import numpy as np\n",
    "import matplotlib.pyplot as plt\n",
    "from numpy.random import normal\n",
    "from matplotlib.widgets import Slider\n"
   ]
  },
  {
   "cell_type": "code",
   "execution_count": 64,
   "metadata": {},
   "outputs": [],
   "source": [
    "class MyData:\n",
    "    def __init__(self, yval, fmin, fmax, Np,\n",
    "                 nRegions, xReg_min, xReg_max):\n",
    "        self.nRegs = nRegions\n",
    "        self.init_ox_oy(yval, fmin, fmax, Np,)\n",
    "        self.init_funcs()\n",
    "        self.val = 0\n",
    "\n",
    "    def init_ox_oy(self, yval, fmin, fmax, Np,):\n",
    "        self.ox = np.linspace(fmin, fmax, Np,)\n",
    "        self.oy = np.full((len(self.ox)), yval) + \\\n",
    "            normal(scale=0.5, size=len(self.ox))\n",
    "        self.reg_names = [f'r_{i}' for i in range(self.nRegs)]\n",
    "\n",
    "    def init_funcs(self):\n",
    "        self.funcs = []\n",
    "        for i, fname in enumerate(self.reg_names):\n",
    "            self.funcs.append(self.factory(fname,i))\n",
    "\n",
    "    def factory(self,fname,dval):\n",
    "        def f():\n",
    "            print(fname, dval)\n",
    "            self.val = self.val + dval\n",
    "            print(self.val)\n",
    "        return f\n"
   ]
  },
  {
   "cell_type": "code",
   "execution_count": 65,
   "metadata": {},
   "outputs": [],
   "source": [
    "yval = -2\n",
    "fmin = 20\n",
    "fmax = 190\n",
    "Np = 30\n",
    "# ==== Define regions ====\n",
    "nRegions = 3\n",
    "xReg_min = 50\n",
    "xReg_max = 105\n",
    "\n",
    "b = MyData(yval, fmin, fmax, Np,\n",
    "           nRegions, xReg_min, xReg_max)\n"
   ]
  },
  {
   "cell_type": "code",
   "execution_count": 66,
   "metadata": {},
   "outputs": [
    {
     "name": "stdout",
     "output_type": "stream",
     "text": [
      "0\n",
      "r_1 1\n",
      "1\n"
     ]
    }
   ],
   "source": [
    "print(b.val)\n",
    "b.funcs[1]()"
   ]
  },
  {
   "cell_type": "code",
   "execution_count": 67,
   "metadata": {},
   "outputs": [],
   "source": [
    "# Define factory\n",
    "def factory(argument):\n",
    "    def f():\n",
    "        print(argument)\n",
    "    return f\n",
    "\n",
    "\n",
    "# Define functions\n",
    "funcs = []\n",
    "for i in range(10):\n",
    "    funcs.append(factory(i))\n",
    "# Run funcs\n",
    "# for f in funcs:\n",
    "#     f()\n"
   ]
  },
  {
   "cell_type": "code",
   "execution_count": 68,
   "metadata": {},
   "outputs": [
    {
     "name": "stdout",
     "output_type": "stream",
     "text": [
      "[ 5  6  7  8  9 10]\n",
      "[ 5  6  7 20 22 10]\n"
     ]
    }
   ],
   "source": [
    "c = np.arange(5, 11, 1)\n",
    "print(c)\n",
    "np.put(c, [3,4], [20,22])\n",
    "print(c)\n"
   ]
  },
  {
   "cell_type": "code",
   "execution_count": 71,
   "metadata": {},
   "outputs": [
    {
     "data": {
      "text/plain": [
       "array([-1,  0, -3,  0,  0])"
      ]
     },
     "execution_count": 71,
     "metadata": {},
     "output_type": "execute_result"
    }
   ],
   "source": [
    "a = np.array([-1,2,-3,5,6])\n",
    "np.minimum(a, 0)\n"
   ]
  }
 ],
 "metadata": {
  "kernelspec": {
   "display_name": "Python 3",
   "language": "python",
   "name": "python3"
  },
  "language_info": {
   "codemirror_mode": {
    "name": "ipython",
    "version": 3
   },
   "file_extension": ".py",
   "mimetype": "text/x-python",
   "name": "python",
   "nbconvert_exporter": "python",
   "pygments_lexer": "ipython3",
   "version": "3.10.6"
  },
  "orig_nbformat": 4,
  "vscode": {
   "interpreter": {
    "hash": "916dbcbb3f70747c44a77c7bcd40155683ae19c65e1c03b4aa3499c5328201f1"
   }
  }
 },
 "nbformat": 4,
 "nbformat_minor": 2
}
